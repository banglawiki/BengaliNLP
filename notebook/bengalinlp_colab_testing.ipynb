{
  "cells": [
    {
      "cell_type": "markdown",
      "metadata": {
        "colab_type": "text",
        "id": "view-in-github"
      },
      "source": [
        "<a href=\"https://colab.research.google.com/github/banglawiki/BengaliNLP/blob/main/notebook/bengalinlp_colab_testing_pass.ipynb\" target=\"_parent\"><img src=\"https://colab.research.google.com/assets/colab-badge.svg\" alt=\"Open In Colab\"/></a>"
      ]
    },
    {
      "cell_type": "markdown",
      "metadata": {
        "id": "xqHRllMHSiDH"
      },
      "source": [
        "# BengaliNLP\n",
        "BengaliNLP is a natural language processing toolkit for Bengali Language. This tool will help you to tokenize Bengali text, Embedding Bengali words, Bengali POS Tagging, Construct Neural Model for Bengali NLP purposes.\n",
        "\n",
        "Here we provide a to z api level use of **BengaliNLP**"
      ]
    },
    {
      "cell_type": "markdown",
      "metadata": {
        "id": "SXurTR8rSzdT"
      },
      "source": [
        "## Installation"
      ]
    },
    {
      "cell_type": "code",
      "execution_count": 6,
      "metadata": {
        "colab": {
          "base_uri": "https://localhost:8080/"
        },
        "id": "EqRr2C1sSag_",
        "outputId": "bcece929-9eef-4755-a562-abba6fce8b03"
      },
      "outputs": [
        {
          "name": "stdout",
          "output_type": "stream",
          "text": [
            "Collecting bengalinlp\n",
            "  Using cached bengalinlp-2.0.0-py3-none-any.whl.metadata (2.8 kB)\n",
            "Collecting sentencepiece==0.2.0 (from bengalinlp)\n",
            "  Using cached sentencepiece-0.2.0.tar.gz (2.6 MB)\n",
            "  Installing build dependencies ... \u001b[?25ldone\n",
            "\u001b[?25h  Getting requirements to build wheel ... \u001b[?25ldone\n",
            "\u001b[?25h  Preparing metadata (pyproject.toml) ... \u001b[?25ldone\n",
            "\u001b[?25hCollecting gensim==4.3.2 (from bengalinlp)\n",
            "  Using cached gensim-4.3.2.tar.gz (23.3 MB)\n",
            "  Installing build dependencies ... \u001b[?25ldone\n",
            "\u001b[?25h  Getting requirements to build wheel ... \u001b[?25ldone\n",
            "\u001b[?25h  Preparing metadata (pyproject.toml) ... \u001b[?25ldone\n",
            "\u001b[?25hCollecting nltk (from bengalinlp)\n",
            "  Using cached nltk-3.9.1-py3-none-any.whl.metadata (2.9 kB)\n",
            "Collecting numpy (from bengalinlp)\n",
            "  Using cached numpy-2.2.5-cp313-cp313-macosx_10_13_x86_64.whl.metadata (62 kB)\n",
            "INFO: pip is looking at multiple versions of bengalinlp to determine which version is compatible with other requirements. This could take a while.\n",
            "Collecting bengalinlp\n",
            "  Using cached bengalinlp-1.0.0-py3-none-any.whl.metadata (837 bytes)\n",
            "Collecting gensim (from bengalinlp)\n",
            "  Using cached gensim-4.3.3.tar.gz (23.3 MB)\n",
            "  Installing build dependencies ... \u001b[?25ldone\n",
            "\u001b[?25h  Getting requirements to build wheel ... \u001b[?25ldone\n",
            "\u001b[?25h  Preparing metadata (pyproject.toml) ... \u001b[?25ldone\n",
            "\u001b[?25hCollecting numpy<2.0,>=1.18.5 (from bengalinlp)\n",
            "  Using cached numpy-1.26.4.tar.gz (15.8 MB)\n",
            "  Installing build dependencies ... \u001b[?25ldone\n",
            "\u001b[?25h  Getting requirements to build wheel ... \u001b[?25ldone\n",
            "\u001b[?25h  Preparing metadata (pyproject.toml) ... \u001b[?25ldone\n",
            "\u001b[?25hCollecting scipy<1.14.0,>=1.7.0 (from bengalinlp)\n",
            "  Using cached scipy-1.13.1.tar.gz (57.2 MB)\n",
            "  Installing build dependencies ... \u001b[?25ldone\n",
            "\u001b[?25h  Getting requirements to build wheel ... \u001b[?25ldone\n",
            "\u001b[?25h  Preparing metadata (pyproject.toml) ... \u001b[?25lerror\n",
            "  \u001b[1;31merror\u001b[0m: \u001b[1msubprocess-exited-with-error\u001b[0m\n",
            "  \n",
            "  \u001b[31m×\u001b[0m \u001b[32mPreparing metadata \u001b[0m\u001b[1;32m(\u001b[0m\u001b[32mpyproject.toml\u001b[0m\u001b[1;32m)\u001b[0m did not run successfully.\n",
            "  \u001b[31m│\u001b[0m exit code: \u001b[1;36m1\u001b[0m\n",
            "  \u001b[31m╰─>\u001b[0m \u001b[31m[45 lines of output]\u001b[0m\n",
            "  \u001b[31m   \u001b[0m \u001b[36m\u001b[1m+ meson setup /private/var/folders/3n/dk04b4b52blg9gm_47cybz4c0000gq/T/pip-install-k6ir55go/scipy_00c51b776b244b09bb9bb9e58e899fd4 /private/var/folders/3n/dk04b4b52blg9gm_47cybz4c0000gq/T/pip-install-k6ir55go/scipy_00c51b776b244b09bb9bb9e58e899fd4/.mesonpy-lleslzf5 -Dbuildtype=release -Db_ndebug=if-release -Db_vscrt=md --native-file=/private/var/folders/3n/dk04b4b52blg9gm_47cybz4c0000gq/T/pip-install-k6ir55go/scipy_00c51b776b244b09bb9bb9e58e899fd4/.mesonpy-lleslzf5/meson-python-native-file.ini\u001b[0m\n",
            "  \u001b[31m   \u001b[0m The Meson build system\n",
            "  \u001b[31m   \u001b[0m Version: 1.7.2\n",
            "  \u001b[31m   \u001b[0m Source dir: /private/var/folders/3n/dk04b4b52blg9gm_47cybz4c0000gq/T/pip-install-k6ir55go/scipy_00c51b776b244b09bb9bb9e58e899fd4\n",
            "  \u001b[31m   \u001b[0m Build dir: /private/var/folders/3n/dk04b4b52blg9gm_47cybz4c0000gq/T/pip-install-k6ir55go/scipy_00c51b776b244b09bb9bb9e58e899fd4/.mesonpy-lleslzf5\n",
            "  \u001b[31m   \u001b[0m Build type: native build\n",
            "  \u001b[31m   \u001b[0m Project name: scipy\n",
            "  \u001b[31m   \u001b[0m Project version: 1.13.1\n",
            "  \u001b[31m   \u001b[0m C compiler for the host machine: cc (clang 13.0.0 \"Apple clang version 13.0.0 (clang-1300.0.29.30)\")\n",
            "  \u001b[31m   \u001b[0m C linker for the host machine: cc ld64 711\n",
            "  \u001b[31m   \u001b[0m C++ compiler for the host machine: c++ (clang 13.0.0 \"Apple clang version 13.0.0 (clang-1300.0.29.30)\")\n",
            "  \u001b[31m   \u001b[0m C++ linker for the host machine: c++ ld64 711\n",
            "  \u001b[31m   \u001b[0m Cython compiler for the host machine: cython (cython 3.0.12)\n",
            "  \u001b[31m   \u001b[0m Host machine cpu family: x86_64\n",
            "  \u001b[31m   \u001b[0m Host machine cpu: x86_64\n",
            "  \u001b[31m   \u001b[0m Program python found: YES (/Users/dev/nlp/.venv/bin/python3.13)\n",
            "  \u001b[31m   \u001b[0m Found pkg-config: YES (/usr/local/bin/pkg-config) 2.4.3\n",
            "  \u001b[31m   \u001b[0m Run-time dependency python found: YES 3.13\n",
            "  \u001b[31m   \u001b[0m Program cython found: YES (/private/var/folders/3n/dk04b4b52blg9gm_47cybz4c0000gq/T/pip-build-env-9c2d57_x/overlay/bin/cython)\n",
            "  \u001b[31m   \u001b[0m Compiler for C supports arguments -Wno-unused-but-set-variable: NO\n",
            "  \u001b[31m   \u001b[0m Compiler for C supports arguments -Wno-unused-function: YES\n",
            "  \u001b[31m   \u001b[0m Compiler for C supports arguments -Wno-conversion: YES\n",
            "  \u001b[31m   \u001b[0m Compiler for C supports arguments -Wno-misleading-indentation: YES\n",
            "  \u001b[31m   \u001b[0m Library m found: YES\n",
            "  \u001b[31m   \u001b[0m Fortran compiler for the host machine: gfortran (gcc 14.2.0 \"GNU Fortran (Homebrew GCC 14.2.0_1) 14.2.0\")\n",
            "  \u001b[31m   \u001b[0m Fortran linker for the host machine: gfortran ld64 711\n",
            "  \u001b[31m   \u001b[0m Compiler for Fortran supports arguments -Wno-conversion: YES\n",
            "  \u001b[31m   \u001b[0m Compiler for C supports link arguments -Wl,-ld_classic: NO\n",
            "  \u001b[31m   \u001b[0m Checking if \"-Wl,--version-script\" links: NO\n",
            "  \u001b[31m   \u001b[0m Program pythran found: YES 0.15.0 0.15.0 (/private/var/folders/3n/dk04b4b52blg9gm_47cybz4c0000gq/T/pip-build-env-9c2d57_x/overlay/bin/pythran)\n",
            "  \u001b[31m   \u001b[0m Run-time dependency xsimd found: YES 13.2.0\n",
            "  \u001b[31m   \u001b[0m Run-time dependency threads found: YES\n",
            "  \u001b[31m   \u001b[0m Library npymath found: YES\n",
            "  \u001b[31m   \u001b[0m Library npyrandom found: YES\n",
            "  \u001b[31m   \u001b[0m pybind11-config found: YES (/private/var/folders/3n/dk04b4b52blg9gm_47cybz4c0000gq/T/pip-build-env-9c2d57_x/overlay/bin/pybind11-config) 2.12.1\n",
            "  \u001b[31m   \u001b[0m Run-time dependency pybind11 found: YES 2.12.1\n",
            "  \u001b[31m   \u001b[0m Run-time dependency scipy-openblas found: NO (tried pkgconfig)\n",
            "  \u001b[31m   \u001b[0m Found CMake: /usr/local/bin/cmake (4.0.1)\n",
            "  \u001b[31m   \u001b[0m WARNING: CMake Toolchain: Failed to determine CMake compilers state\n",
            "  \u001b[31m   \u001b[0m Run-time dependency openblas found: NO (tried pkgconfig, framework and cmake)\n",
            "  \u001b[31m   \u001b[0m Run-time dependency openblas found: NO (tried pkgconfig, framework and cmake)\n",
            "  \u001b[31m   \u001b[0m \n",
            "  \u001b[31m   \u001b[0m ../scipy/meson.build:163:9: ERROR: Dependency \"OpenBLAS\" not found, tried pkgconfig, framework and cmake\n",
            "  \u001b[31m   \u001b[0m \n",
            "  \u001b[31m   \u001b[0m A full log can be found at /private/var/folders/3n/dk04b4b52blg9gm_47cybz4c0000gq/T/pip-install-k6ir55go/scipy_00c51b776b244b09bb9bb9e58e899fd4/.mesonpy-lleslzf5/meson-logs/meson-log.txt\n",
            "  \u001b[31m   \u001b[0m \u001b[31m[end of output]\u001b[0m\n",
            "  \n",
            "  \u001b[1;35mnote\u001b[0m: This error originates from a subprocess, and is likely not a problem with pip.\n",
            "\u001b[?25h\u001b[1;31merror\u001b[0m: \u001b[1mmetadata-generation-failed\u001b[0m\n",
            "\n",
            "\u001b[31m×\u001b[0m Encountered error while generating package metadata.\n",
            "\u001b[31m╰─>\u001b[0m See above for output.\n",
            "\n",
            "\u001b[1;35mnote\u001b[0m: This is an issue with the package mentioned above, not pip.\n",
            "\u001b[1;36mhint\u001b[0m: See above for details.\n"
          ]
        }
      ],
      "source": [
        "!pip install bengalinlp"
      ]
    },
    {
      "cell_type": "markdown",
      "metadata": {
        "id": "89_dmCXJWRWc"
      },
      "source": [
        "## Tokenization\n",
        "\n"
      ]
    },
    {
      "cell_type": "markdown",
      "metadata": {
        "id": "VjI8S58uXL3K"
      },
      "source": [
        "### Sentencepiece Tokenizer"
      ]
    },
    {
      "cell_type": "code",
      "execution_count": 5,
      "metadata": {
        "colab": {
          "base_uri": "https://localhost:8080/"
        },
        "id": "yTnY9_gWWP7z",
        "outputId": "c48c699f-bfce-49f1-b79a-893648b55eba"
      },
      "outputs": [
        {
          "ename": "ModuleNotFoundError",
          "evalue": "No module named 'bengalinlp'",
          "output_type": "error",
          "traceback": [
            "\u001b[31m---------------------------------------------------------------------------\u001b[39m",
            "\u001b[31mModuleNotFoundError\u001b[39m                       Traceback (most recent call last)",
            "\u001b[36mCell\u001b[39m\u001b[36m \u001b[39m\u001b[32mIn[5]\u001b[39m\u001b[32m, line 1\u001b[39m\n\u001b[32m----> \u001b[39m\u001b[32m1\u001b[39m \u001b[38;5;28;01mfrom\u001b[39;00m\u001b[38;5;250m \u001b[39m\u001b[34;01mbengalinlp\u001b[39;00m\u001b[38;5;250m \u001b[39m\u001b[38;5;28;01mimport\u001b[39;00m SentencepieceTokenizer\n\u001b[32m      3\u001b[39m bsp = SentencepieceTokenizer()\n\u001b[32m      6\u001b[39m input_text = \u001b[33m\"\u001b[39m\u001b[33mআমি ভাত খাই। সে বাজারে যায়।\u001b[39m\u001b[33m\"\u001b[39m\n",
            "\u001b[31mModuleNotFoundError\u001b[39m: No module named 'bengalinlp'"
          ]
        }
      ],
      "source": [
        "from bengalinlp import SentencepieceTokenizer\n",
        "\n",
        "bsp = SentencepieceTokenizer()\n",
        "\n",
        "\n",
        "input_text = \"আমি ভাত খাই। সে বাজারে যায়।\"\n",
        "tokens = bsp.tokenize(input_text)\n",
        "print(tokens)\n",
        "text2id = bsp.text2id(input_text)\n",
        "print(text2id)\n",
        "id2text = bsp.id2text(text2id)\n",
        "print(id2text)"
      ]
    },
    {
      "cell_type": "markdown",
      "metadata": {
        "id": "DhhO65MvXC2C"
      },
      "source": [
        "### Basic Tokenizer"
      ]
    },
    {
      "cell_type": "code",
      "execution_count": 58,
      "metadata": {
        "colab": {
          "base_uri": "https://localhost:8080/"
        },
        "id": "NvX910bCW7t6",
        "outputId": "0505ea35-e0c8-4d16-f9b7-2e544aaf2120"
      },
      "outputs": [
        {
          "name": "stdout",
          "output_type": "stream",
          "text": [
            "['আমি', 'বাংলায়', 'গান', 'গাই', '।']\n"
          ]
        }
      ],
      "source": [
        "from bengalinlp import BasicTokenizer\n",
        "\n",
        "tokenizer = BasicTokenizer()\n",
        "\n",
        "raw_text = \"আমি বাংলায় গান গাই।\"\n",
        "tokens = tokenizer(raw_text)\n",
        "print(tokens)\n"
      ]
    },
    {
      "cell_type": "markdown",
      "metadata": {
        "id": "pTOHycMkXNoC"
      },
      "source": [
        "### NLTK Tokenizer"
      ]
    },
    {
      "cell_type": "code",
      "execution_count": 59,
      "metadata": {
        "colab": {
          "base_uri": "https://localhost:8080/"
        },
        "id": "0DT-H9W0XFGC",
        "outputId": "3b02c7a6-89e0-4f5e-8aa1-9907d23070a0"
      },
      "outputs": [
        {
          "name": "stdout",
          "output_type": "stream",
          "text": [
            "['আমি', 'ভাত', 'খাই', '।', 'সে', 'বাজারে', 'যায়', '।', 'তিনি', 'কি', 'সত্যিই', 'ভালো', 'মানুষ', '?']\n",
            "['আমি ভাত খাই।', 'সে বাজারে যায়।', 'তিনি কি সত্যিই ভালো মানুষ?']\n"
          ]
        }
      ],
      "source": [
        "from bengalinlp import NLTKTokenizer\n",
        "\n",
        "bnltk = NLTKTokenizer()\n",
        "\n",
        "text = \"আমি ভাত খাই। সে বাজারে যায়। তিনি কি সত্যিই ভালো মানুষ?\"\n",
        "word_tokens = bnltk.word_tokenize(text)\n",
        "sentence_tokens = bnltk.sentence_tokenize(text)\n",
        "print(word_tokens)\n",
        "print(sentence_tokens)"
      ]
    },
    {
      "cell_type": "markdown",
      "metadata": {
        "id": "puSrp9bBXklx"
      },
      "source": [
        "## Word Embedding"
      ]
    },
    {
      "cell_type": "code",
      "execution_count": null,
      "metadata": {
        "id": "qTNCB-FQN2ez"
      },
      "outputs": [],
      "source": [
        "from google.colab import drive\n",
        "drive.mount('/content/drive')"
      ]
    },
    {
      "cell_type": "markdown",
      "metadata": {
        "id": "k4JTRdBIXmmV"
      },
      "source": [
        "### Bengali Word2Vec"
      ]
    },
    {
      "cell_type": "code",
      "execution_count": 43,
      "metadata": {
        "colab": {
          "base_uri": "https://localhost:8080/"
        },
        "id": "aTPKDulmXT5B",
        "outputId": "ebeb7f44-3e08-4b6f-d307-7498cb5c2eac"
      },
      "outputs": [
        {
          "name": "stdout",
          "output_type": "stream",
          "text": [
            "(100,)\n"
          ]
        }
      ],
      "source": [
        "from bengalinlp import BengaliWord2Vec\n",
        "\n",
        "bwv = BengaliWord2Vec()\n",
        "\n",
        "word = 'গ্রাম'\n",
        "vector = bwv.get_word_vector(word)\n",
        "print(vector.shape)"
      ]
    },
    {
      "cell_type": "code",
      "execution_count": 44,
      "metadata": {
        "colab": {
          "base_uri": "https://localhost:8080/"
        },
        "id": "TXN7oFCHYRdB",
        "outputId": "5db2b6a3-858f-4211-cc4e-2580861ed1d1"
      },
      "outputs": [
        {
          "name": "stdout",
          "output_type": "stream",
          "text": [
            "[('মৌজা', 0.7147208452224731), ('মহল্লা', 0.6878851652145386), ('তালুক', 0.6774986386299133), ('গ্রামের', 0.6585026383399963), ('তহসিল', 0.6413203477859497), ('পুরসভা', 0.6314382553100586), ('গ্রামে', 0.6264088749885559), ('সংগ্রামপুর', 0.6029990315437317), ('গ্রামাঞ্চল', 0.5972400307655334), ('মৌজার', 0.5972233414649963)]\n"
          ]
        }
      ],
      "source": [
        "from bengalinlp import BengaliWord2Vec\n",
        "\n",
        "bwv = BengaliWord2Vec()\n",
        "\n",
        "word = 'গ্রাম'\n",
        "similar_words = bwv.get_most_similar_words(word, topn=10)\n",
        "print(similar_words)"
      ]
    },
    {
      "cell_type": "markdown",
      "metadata": {
        "id": "FpQsPWd5ZcwR"
      },
      "source": [
        "### Bengali Fasttext\n",
        "Install fasttext and restart runtime"
      ]
    },
    {
      "cell_type": "code",
      "execution_count": 45,
      "metadata": {
        "colab": {
          "base_uri": "https://localhost:8080/"
        },
        "id": "m-ElsxXXIJHh",
        "outputId": "57d11ab5-ccaf-48b6-fac9-8700a2f9fc31"
      },
      "outputs": [
        {
          "name": "stdout",
          "output_type": "stream",
          "text": [
            "Requirement already satisfied: fasttext in /usr/local/lib/python3.10/dist-packages (0.9.3)\n",
            "Requirement already satisfied: pybind11>=2.2 in /usr/local/lib/python3.10/dist-packages (from fasttext) (2.13.5)\n",
            "Requirement already satisfied: setuptools>=0.7.0 in /usr/local/lib/python3.10/dist-packages (from fasttext) (71.0.4)\n",
            "Requirement already satisfied: numpy in /usr/local/lib/python3.10/dist-packages (from fasttext) (1.26.4)\n"
          ]
        }
      ],
      "source": [
        "!pip install fasttext"
      ]
    },
    {
      "cell_type": "code",
      "execution_count": 46,
      "metadata": {
        "colab": {
          "base_uri": "https://localhost:8080/"
        },
        "id": "ICGKCZbRYuue",
        "outputId": "168ce45a-3cc2-4dfa-d371-26adb7cd0c6b"
      },
      "outputs": [
        {
          "name": "stdout",
          "output_type": "stream",
          "text": [
            "(100,)\n"
          ]
        }
      ],
      "source": [
        "from bengalinlp.embedding.fasttext import BengaliFasttext\n",
        "\n",
        "bft = BengaliFasttext()\n",
        "\n",
        "word = \"গ্রাম\"\n",
        "word_vector = bft.get_word_vector(word)\n",
        "print(word_vector.shape)"
      ]
    },
    {
      "cell_type": "code",
      "execution_count": 47,
      "metadata": {
        "id": "xb6TNtZKx2xc"
      },
      "outputs": [],
      "source": [
        "# Generate vector file from trained fasttext bin model\n",
        "from bengalinlp.embedding.fasttext import BengaliFasttext\n",
        "\n",
        "bft = BengaliFasttext()\n",
        "\n",
        "out_vector_name = \"myvector.txt\"\n",
        "bft.bin2vec(out_vector_name)"
      ]
    },
    {
      "cell_type": "markdown",
      "metadata": {
        "id": "2i1atjw90BTP"
      },
      "source": [
        "### Bengali Glove Vector"
      ]
    },
    {
      "cell_type": "code",
      "execution_count": 48,
      "metadata": {
        "colab": {
          "base_uri": "https://localhost:8080/"
        },
        "id": "-lLxerIo0FVz",
        "outputId": "df1c0a14-fbc6-4955-d7eb-98fa2eca1a6d"
      },
      "outputs": [
        {
          "name": "stdout",
          "output_type": "stream",
          "text": [
            "(100,)\n"
          ]
        }
      ],
      "source": [
        "from bengalinlp import BengaliGlove\n",
        "\n",
        "bengali_glove = BengaliGlove() # will automatically download pretrained model\n",
        "\n",
        "word = \"গ্রাম\"\n",
        "vector = bengali_glove.get_word_vector(word)\n",
        "print(vector.shape)"
      ]
    },
    {
      "cell_type": "code",
      "execution_count": 49,
      "metadata": {
        "colab": {
          "base_uri": "https://localhost:8080/"
        },
        "id": "ga2F0nDb2TLU",
        "outputId": "80a42df9-62fb-43ec-f4e1-5eb70997f1e9"
      },
      "outputs": [
        {
          "name": "stdout",
          "output_type": "stream",
          "text": [
            "['গ্রাম', 'পঞ্চায়েতের', 'পঞ্চায়েতগুলি', 'ব্লক', 'পঞ্চায়েত', 'পঞ্চায়েতে', 'গ্রামটি', 'গঞ্জের', 'গ্রামে', 'গ্রামীণ']\n"
          ]
        }
      ],
      "source": [
        "similar_words = bengali_glove.get_closest_word(word)\n",
        "print(similar_words)"
      ]
    },
    {
      "cell_type": "markdown",
      "metadata": {
        "id": "CX2vU_Hw0lLD"
      },
      "source": [
        "## Document Embedding"
      ]
    },
    {
      "cell_type": "markdown",
      "metadata": {
        "id": "-Ye_iWNp0sL8"
      },
      "source": [
        "## Bengali Doc2Vec"
      ]
    },
    {
      "cell_type": "markdown",
      "metadata": {
        "id": "8rXw8ETp1cBU"
      },
      "source": [
        "* Get document vector from input document using pre-trained doc2vec model\n",
        "\n",
        "NB: The model here trained on news article. So it work better in news article input"
      ]
    },
    {
      "cell_type": "code",
      "execution_count": 50,
      "metadata": {
        "colab": {
          "base_uri": "https://localhost:8080/"
        },
        "id": "28HKKsL400Yx",
        "outputId": "172ad770-853f-4fd5-df77-a460ed56f98a"
      },
      "outputs": [
        {
          "name": "stdout",
          "output_type": "stream",
          "text": [
            "(100,)\n"
          ]
        }
      ],
      "source": [
        "from bengalinlp import BengaliDoc2vec\n",
        "\n",
        "model_key = \"NEWS_DOC2VEC\" # set this to WIKI_DOC2VEC for model trained on Wikipedis\n",
        "bn_doc2vec = BengaliDoc2vec(model_path=model_key) # if model_path path is not passed NEWS_DOC2VEC will be selected\n",
        "\n",
        "document = \"রাষ্ট্রবিরোধী ও উসকানিমূলক বক্তব্য দেওয়ার অভিযোগে গাজীপুরের গাছা থানায় ডিজিটাল নিরাপত্তা আইনে করা মামলায় আলোচিত ‘শিশুবক্তা’ রফিকুল ইসলামের বিরুদ্ধে অভিযোগ গঠন করেছেন আদালত। ফলে মামলার আনুষ্ঠানিক বিচার শুরু হলো। আজ বুধবার (২৬ জানুয়ারি) ঢাকার সাইবার ট্রাইব্যুনালের বিচারক আসসামছ জগলুল হোসেন এ অভিযোগ গঠন করেন। এর আগে, রফিকুল ইসলামকে কারাগার থেকে আদালতে হাজির করা হয়। এরপর তাকে নির্দোষ দাবি করে তার আইনজীবী শোহেল মো. ফজলে রাব্বি অব্যাহতি চেয়ে আবেদন করেন। অন্যদিকে, রাষ্ট্রপক্ষ অভিযোগ গঠনের পক্ষে শুনানি করেন। উভয় পক্ষের শুনানি শেষে আদালত অব্যাহতির আবেদন খারিজ করে অভিযোগ গঠনের মাধ্যমে বিচার শুরুর আদেশ দেন। একইসঙ্গে সাক্ষ্যগ্রহণের জন্য আগামী ২২ ফেব্রুয়ারি দিন ধার্য করেন আদালত।\"\n",
        "vector = bn_doc2vec.get_document_vector(text)\n",
        "print(vector.shape)"
      ]
    },
    {
      "cell_type": "markdown",
      "metadata": {
        "id": "XikStFMg1Q3B"
      },
      "source": [
        "* Find document similarity between two documents\n",
        "\n",
        "The model used here trained on news article. So it will work better on news article inputs"
      ]
    },
    {
      "cell_type": "code",
      "execution_count": 51,
      "metadata": {
        "colab": {
          "base_uri": "https://localhost:8080/"
        },
        "id": "vEGDiFYi1I0P",
        "outputId": "386f9e4e-b473-4a09-9f5f-f0a3da1e9ba4"
      },
      "outputs": [
        {
          "name": "stdout",
          "output_type": "stream",
          "text": [
            "0.99\n"
          ]
        }
      ],
      "source": [
        "from bengalinlp import BengaliDoc2vec\n",
        "\n",
        "model_key = \"NEWS_DOC2VEC\" # set this to WIKI_DOC2VEC for model trained on Wikipedis\n",
        "bn_doc2vec = BengaliDoc2vec(model_path=model_key) # if model_path path is not passed NEWS_DOC2VEC will be selected\n",
        "\n",
        "article_1 = \"রাষ্ট্রবিরোধী ও উসকানিমূলক বক্তব্য দেওয়ার অভিযোগে গাজীপুরের গাছা থানায় ডিজিটাল নিরাপত্তা আইনে করা মামলায় আলোচিত ‘শিশুবক্তা’ রফিকুল ইসলামের বিরুদ্ধে অভিযোগ গঠন করেছেন আদালত। ফলে মামলার আনুষ্ঠানিক বিচার শুরু হলো। আজ বুধবার (২৬ জানুয়ারি) ঢাকার সাইবার ট্রাইব্যুনালের বিচারক আসসামছ জগলুল হোসেন এ অভিযোগ গঠন করেন। এর আগে, রফিকুল ইসলামকে কারাগার থেকে আদালতে হাজির করা হয়। এরপর তাকে নির্দোষ দাবি করে তার আইনজীবী শোহেল মো. ফজলে রাব্বি অব্যাহতি চেয়ে আবেদন করেন। অন্যদিকে, রাষ্ট্রপক্ষ অভিযোগ গঠনের পক্ষে শুনানি করেন। উভয় পক্ষের শুনানি শেষে আদালত অব্যাহতির আবেদন খারিজ করে অভিযোগ গঠনের মাধ্যমে বিচার শুরুর আদেশ দেন। একইসঙ্গে সাক্ষ্যগ্রহণের জন্য আগামী ২২ ফেব্রুয়ারি দিন ধার্য করেন আদালত।\"\n",
        "article_2 = \"রাষ্ট্রবিরোধী ও উসকানিমূলক বক্তব্য দেওয়ার অভিযোগে গাজীপুরের গাছা থানায় ডিজিটাল নিরাপত্তা আইনে করা মামলায় আলোচিত ‘শিশুবক্তা’ রফিকুল ইসলামের বিরুদ্ধে অভিযোগ গঠন করেছেন আদালত। ফলে মামলার আনুষ্ঠানিক বিচার শুরু হলো। আজ বুধবার (২৬ জানুয়ারি) ঢাকার সাইবার ট্রাইব্যুনালের বিচারক আসসামছ জগলুল হোসেন এ অভিযোগ গঠন করেন। এর আগে, রফিকুল ইসলামকে কারাগার থেকে আদালতে হাজির করা হয়। এরপর তাকে নির্দোষ দাবি করে তার আইনজীবী শোহেল মো. ফজলে রাব্বি অব্যাহতি চেয়ে আবেদন করেন। অন্যদিকে, রাষ্ট্রপক্ষ অভিযোগ গঠনের পক্ষে শুনানি করেন। উভয় পক্ষের শুনানি শেষে আদালত অব্যাহতির আবেদন খারিজ করে অভিযোগ গঠনের মাধ্যমে বিচার শুরুর আদেশ দেন। একইসঙ্গে সাক্ষ্যগ্রহণের জন্য আগামী ২২ ফেব্রুয়ারি দিন ধার্য করেন আদালত।\"\n",
        "\n",
        "similarity = bn_doc2vec.get_document_similarity(\n",
        "  article_1,\n",
        "  article_2\n",
        ")\n",
        "print(similarity)"
      ]
    },
    {
      "cell_type": "markdown",
      "metadata": {
        "id": "8tEPivPeZhqF"
      },
      "source": [
        "## Bengali POS Tagging"
      ]
    },
    {
      "cell_type": "code",
      "execution_count": 52,
      "metadata": {
        "colab": {
          "base_uri": "https://localhost:8080/"
        },
        "id": "FCMr4ZkbZPZG",
        "outputId": "bd9f7903-2e16-4891-a5d0-28ec85772218"
      },
      "outputs": [
        {
          "name": "stdout",
          "output_type": "stream",
          "text": [
            "[('আমি', 'PPR'), ('ভাত', 'NC'), ('খাই', 'VM'), ('।', 'PU')]\n"
          ]
        }
      ],
      "source": [
        "from bengalinlp import BengaliPOS\n",
        "\n",
        "bn_pos = BengaliPOS()\n",
        "\n",
        "text = \"আমি ভাত খাই।\" # or you can pass ['আমি', 'ভাত', 'খাই', '।']\n",
        "res = bn_pos.tag(text)\n",
        "print(res)"
      ]
    },
    {
      "cell_type": "markdown",
      "metadata": {
        "id": "x4lzRvVaqtw7"
      },
      "source": [
        "## Bengali Name Entity Recognition"
      ]
    },
    {
      "cell_type": "code",
      "execution_count": 53,
      "metadata": {
        "colab": {
          "base_uri": "https://localhost:8080/"
        },
        "id": "Kr23_fZbZkul",
        "outputId": "24238045-420d-441e-b4c4-f43a18900a6b"
      },
      "outputs": [
        {
          "name": "stdout",
          "output_type": "stream",
          "text": [
            "[('সে', 'O'), ('ঢাকায়', 'O'), ('থাকে', 'O')]\n"
          ]
        }
      ],
      "source": [
        "from bengalinlp import BengaliNER\n",
        "\n",
        "bn_ner = BengaliNER()\n",
        "\n",
        "text = \"সে ঢাকায় থাকে।\" # or you can pass ['সে', 'ঢাকায়', 'থাকে', '।']\n",
        "result = bn_ner.tag(text)\n",
        "print(result)"
      ]
    },
    {
      "cell_type": "markdown",
      "metadata": {
        "id": "86HNdJIIJmoY"
      },
      "source": [
        "# Bengali Corpus Class"
      ]
    },
    {
      "cell_type": "markdown",
      "metadata": {
        "id": "Ub43jYHZJ291"
      },
      "source": [
        "## Stopwords, letters, digits, vowerls and punctuations"
      ]
    },
    {
      "cell_type": "code",
      "execution_count": 54,
      "metadata": {
        "colab": {
          "base_uri": "https://localhost:8080/"
        },
        "id": "GMfaIogmtPnk",
        "outputId": "af1199bc-840f-47dc-fc34-23dd6b881bd6"
      },
      "outputs": [
        {
          "name": "stdout",
          "output_type": "stream",
          "text": [
            "['অতএব', 'অথচ', 'অথবা', 'অনুযায়ী', 'অনেক', 'অনেকে', 'অনেকেই', 'অন্তত', 'অন্য', 'অবধি', 'অবশ্য', 'অর্থাত', 'আই', 'আগামী', 'আগে', 'আগেই', 'আছে', 'আজ', 'আদ্যভাগে', 'আপনার', 'আপনি', 'আবার', 'আমরা', 'আমাকে', 'আমাদের', 'আমার', 'আমি', 'আর', 'আরও', 'ই', 'ইত্যাদি', 'ইহা', 'উচিত', 'উত্তর', 'উনি', 'উপর', 'উপরে', 'এ', 'এঁদের', 'এঁরা', 'এই', 'একই', 'একটি', 'একবার', 'একে', 'এক্', 'এখন', 'এখনও', 'এখানে', 'এখানেই', 'এটা', 'এটাই', 'এটি', 'এত', 'এতটাই', 'এতে', 'এদের', 'এব', 'এবং', 'এবার', 'এমন', 'এমনকী', 'এমনি', 'এর', 'এরা', 'এল', 'এস', 'এসে', 'ঐ', 'ও', 'ওঁদের', 'ওঁর', 'ওঁরা', 'ওই', 'ওকে', 'ওখানে', 'ওদের', 'ওর', 'ওরা', 'কখনও', 'কত', 'কবে', 'কয়েক', 'কয়েকটি', 'করছে', 'করছেন', 'করতে', 'করবে', 'করবেন', 'করলে', 'করলেন', 'করা', 'করাই', 'করায়', 'করার', 'করি', 'করিতে', 'করিয়া', 'করিয়ে', 'করে', 'করেই', 'করেছিলেন', 'করেছে', 'করেছেন', 'করেন', 'কাউকে', 'কাছ', 'কাছে', 'কাজ', 'কাজে', 'কারও', 'কারণ', 'কি', 'কিংবা', 'কিছু', 'কিছুই', 'কিন্তু', 'কী', 'কে', 'কেউ', 'কেউই', 'কেখা', 'কেন', 'কোটি', 'কোন', 'কোনও', 'কোনো', 'ক্ষেত্রে', 'খুব', 'গিয়ে', 'গিয়েছে', 'গুলি', 'গেছে', 'গেল', 'গেলে', 'গোটা', 'চলে', 'চান', 'চায়', 'চার', 'চালু', 'চেয়ে', 'চেষ্টা', 'ছাড়া', 'ছাড়াও', 'ছিল', 'ছিলেন', 'জন', 'জনকে', 'জনের', 'জন্য', 'জানতে', 'জানা', 'জানানো', 'জানায়', 'জানিয়ে', 'জানিয়েছে', 'জে', 'টি', 'ঠিক', 'তখন', 'তত', 'তথা', 'তবু', 'তবে', 'তা', 'তাঁকে', 'তাঁদের', 'তাঁর', 'তাঁরা', 'তাই', 'তাও', 'তাকে', 'তাতে', 'তাদের', 'তার', 'তারপর', 'তারা', 'তাহলে', 'তাহা', 'তাহাতে', 'তাহার', 'তিনি', 'তিনিও', 'তুমি', 'তুলে', 'তেমন', 'তো', 'তোমার', 'থাকবে', 'থাকবেন', 'থাকা', 'থাকায়', 'থাকে', 'থাকেন', 'থেকে', 'থেকেই', 'থেকেও', 'দিকে', 'দিতে', 'দিন', 'দিয়ে', 'দিয়েছে', 'দিয়েছেন', 'দিলেন', 'দু', 'দুই', 'দুটি', 'দুটো', 'দেওয়া', 'দেওয়ার', 'দেখতে', 'দেখা', 'দেখে', 'দেন', 'দেয়', 'দ্বারা', 'ধরা', 'ধরে', 'ধামার', 'নতুন', 'নয়', 'না', 'নাই', 'নাকি', 'নাগাদ', 'নানা', 'নিজে', 'নিজেই', 'নিজেদের', 'নিজের', 'নিতে', 'নিয়ে', 'নেই', 'নেওয়া', 'নেওয়ার', 'পক্ষে', 'পর', 'পরে', 'পরেই', 'পরেও', 'পর্যন্ত', 'পাওয়া', 'পাচ', 'পারি', 'পারে', 'পারেন', 'পি', 'পেয়ে', 'প্রতি', 'প্রথম', 'প্রভৃতি', 'প্রযন্ত', 'প্রাথমিক', 'প্রায়', 'ফলে', 'ফিরে', 'ফের', 'বক্তব্য', 'বদলে', 'বন', 'বরং', 'বলতে', 'বলল', 'বললেন', 'বলা', 'বলে', 'বলেছেন', 'বলেন', 'বসে', 'বহু', 'বা', 'বাদে', 'বার', 'বি', 'বিনা', 'বিভিন্ন', 'বিশেষ', 'বিষয়টি', 'বেশ', 'বেশি', 'ব্যবহার', 'ব্যাপারে', 'ভাবে', 'ভাবেই', 'মতো', 'মতোই', 'মধ্যভাগে', 'মধ্যে', 'মধ্যেই', 'মধ্যেও', 'মনে', 'মাত্র', 'মাধ্যমে', 'মোট', 'মোটেই', 'যখন', 'যত', 'যতটা', 'যথেষ্ট', 'যদি', 'যদিও', 'যা', 'যাঁর', 'যাঁরা', 'যাওয়া', 'যাওয়ার', 'যাকে', 'যাচ্ছে', 'যাতে', 'যাদের', 'যান', 'যাবে', 'যায়', 'যার', 'যারা', 'যিনি', 'যে', 'যেখানে', 'যেতে', 'যেন', 'যেমন', 'রকম', 'রয়েছে', 'রাখা', 'রেখে', 'লক্ষ', 'শুধু', 'শুরু', 'সঙ্গে', 'সঙ্গেও', 'সব', 'সবার', 'সমস্ত', 'সম্প্রতি', 'সহ', 'সহিত', 'সাধারণ', 'সামনে', 'সুতরাং', 'সে', 'সেই', 'সেখান', 'সেখানে', 'সেটা', 'সেটাই', 'সেটাও', 'সেটি', 'স্পষ্ট', 'স্বয়ং', 'হইতে', 'হইবে', 'হইয়া', 'হওয়া', 'হওয়ায়', 'হওয়ার', 'হচ্ছে', 'হত', 'হতে', 'হতেই', 'হন', 'হবে', 'হবেন', 'হয়', 'হয়তো', 'হয়নি', 'হয়ে', 'হয়েই', 'হয়েছিল', 'হয়েছে', 'হয়েছেন', 'হল', 'হলে', 'হলেই', 'হলেও', 'হলো', 'হাজার', 'হিসাবে', 'হৈলে', 'হোক']\n",
            "!\"#$%&'()*+,-./:;<=>?@[\\]^_`{|}~।ঃ\n",
            "অআইঈউঊঋএঐওঔকখগঘঙচছজঝঞটঠডঢণতথদধনপফবভমযরলশষসহড়ঢ়য়ৎংঃঁ\n",
            "০১২৩৪৫৬৭৮৯\n",
            "া ি ী ু ৃ ে ৈ ো ৌ\n"
          ]
        }
      ],
      "source": [
        "from bengalinlp import BengaliCorpus as corpus\n",
        "\n",
        "print(corpus.stopwords)\n",
        "print(corpus.punctuations)\n",
        "print(corpus.letters)\n",
        "print(corpus.digits)\n",
        "print(corpus.vowels)"
      ]
    },
    {
      "cell_type": "markdown",
      "metadata": {
        "id": "jjLs0-9w2xkP"
      },
      "source": [
        "## Text Cleaning"
      ]
    },
    {
      "cell_type": "code",
      "execution_count": 56,
      "metadata": {
        "colab": {
          "base_uri": "https://localhost:8080/"
        },
        "id": "ewKI6sM22y_H",
        "outputId": "8e1744d9-907b-4702-ba14-7cbab8f12683"
      },
      "outputs": [
        {
          "name": "stdout",
          "output_type": "stream",
          "text": [
            "আমার সোনার বাংলা।\n"
          ]
        }
      ],
      "source": [
        "from bengalinlp import CleanText\n",
        "\n",
        "clean_text = CleanText(\n",
        "   fix_unicode=True,\n",
        "   unicode_norm=True,\n",
        "   unicode_norm_form=\"NFKC\",\n",
        "   remove_url=False,\n",
        "   remove_email=False,\n",
        "   remove_emoji=False,\n",
        "   remove_number=False,\n",
        "   remove_digits=False,\n",
        "   remove_punct=False,\n",
        "   replace_with_url=\"<URL>\",\n",
        "   replace_with_email=\"<EMAIL>\",\n",
        "   replace_with_number=\"<NUMBER>\",\n",
        "   replace_with_digit=\"<DIGIT>\",\n",
        "   replace_with_punct = \"<PUNC>\"\n",
        ")\n",
        "\n",
        "input_text = \"আমার সোনার বাংলা।\"\n",
        "clean_text = clean_text(input_text)\n",
        "print(clean_text)"
      ]
    },
    {
      "cell_type": "code",
      "execution_count": 56,
      "metadata": {
        "id": "moZnnw0b2z-K"
      },
      "outputs": [],
      "source": []
    }
  ],
  "metadata": {
    "colab": {
      "include_colab_link": true,
      "name": "bengalinlp_colab.ipynb",
      "provenance": [],
      "toc_visible": true
    },
    "kernelspec": {
      "display_name": ".venv",
      "language": "python",
      "name": "python3"
    },
    "language_info": {
      "codemirror_mode": {
        "name": "ipython",
        "version": 3
      },
      "file_extension": ".py",
      "mimetype": "text/x-python",
      "name": "python",
      "nbconvert_exporter": "python",
      "pygments_lexer": "ipython3",
      "version": "3.13.3"
    }
  },
  "nbformat": 4,
  "nbformat_minor": 0
}
